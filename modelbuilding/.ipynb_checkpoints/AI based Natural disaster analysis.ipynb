{
 "cells": [
  {
   "cell_type": "code",
   "execution_count": 1,
   "id": "4d4e5f5e",
   "metadata": {},
   "outputs": [
    {
     "name": "stdout",
     "output_type": "stream",
     "text": [
      "Found 742 images belonging to 4 classes.\n",
      "Found 198 images belonging to 4 classes.\n"
     ]
    }
   ],
   "source": [
    "from keras.preprocessing.image import ImageDataGenerator\n",
    "train_datagen=ImageDataGenerator(rescale=1./255,shear_range=0.2,zoom_range=0.2,horizontal_flip=True)\n",
    "test_datagen=ImageDataGenerator(rescale=1./255)\n",
    "x_train=train_datagen.flow_from_directory(r'D:\\dataset\\train_set',target_size=(64,64),batch_size=5,color_mode='rgb',class_mode='categorical')\n",
    "x_test=test_datagen.flow_from_directory(r'D:\\dataset\\test_set',target_size=(64,64),batch_size=5,color_mode='rgb',class_mode='categorical')\n"
   ]
  },
  {
   "cell_type": "code",
   "execution_count": 2,
   "id": "b1b61796",
   "metadata": {},
   "outputs": [
    {
     "name": "stdout",
     "output_type": "stream",
     "text": [
      "Model: \"sequential\"\n",
      "_________________________________________________________________\n",
      " Layer (type)                Output Shape              Param #   \n",
      "=================================================================\n",
      " conv2d (Conv2D)             (None, 62, 62, 32)        896       \n",
      "                                                                 \n",
      " max_pooling2d (MaxPooling2  (None, 31, 31, 32)        0         \n",
      " D)                                                              \n",
      "                                                                 \n",
      " conv2d_1 (Conv2D)           (None, 29, 29, 32)        9248      \n",
      "                                                                 \n",
      " max_pooling2d_1 (MaxPoolin  (None, 14, 14, 32)        0         \n",
      " g2D)                                                            \n",
      "                                                                 \n",
      " flatten (Flatten)           (None, 6272)              0         \n",
      "                                                                 \n",
      " dense (Dense)               (None, 128)               802944    \n",
      "                                                                 \n",
      " dense_1 (Dense)             (None, 4)                 516       \n",
      "                                                                 \n",
      "=================================================================\n",
      "Total params: 813604 (3.10 MB)\n",
      "Trainable params: 813604 (3.10 MB)\n",
      "Non-trainable params: 0 (0.00 Byte)\n",
      "_________________________________________________________________\n"
     ]
    }
   ],
   "source": [
    "import numpy as np\n",
    "import tensorflow\n",
    "from tensorflow.keras.models import Sequential\n",
    "from tensorflow.keras import layers\n",
    "from tensorflow.keras.layers import Dense,Flatten\n",
    "from tensorflow.keras.layers import Conv2D,MaxPooling2D\n",
    "from keras.preprocessing.image import ImageDataGenerator\n",
    "\n",
    "model=Sequential()\n",
    "\n",
    "model.add(Conv2D(32,(3,3),input_shape=(64,64,3),activation='relu'))\n",
    "model.add(MaxPooling2D(pool_size=(2,2)))\n",
    "model.add(Conv2D(32,(3,3),activation='relu'))\n",
    "model.add(MaxPooling2D(pool_size=(2,2)))\n",
    "model.add(Flatten())\n",
    "\n",
    "model.add(Dense(units=128,activation='relu'))\n",
    "model.add(Dense(units=4,activation='softmax'))\n",
    "\n",
    "model.summary()"
   ]
  },
  {
   "cell_type": "code",
   "execution_count": 3,
   "id": "f5e67fbb",
   "metadata": {
    "scrolled": true
   },
   "outputs": [],
   "source": [
    "model.compile(optimizer='adam',loss='categorical_crossentropy',metrics=['accuracy'])\n"
   ]
  },
  {
   "cell_type": "code",
   "execution_count": 4,
   "id": "f83cadcc",
   "metadata": {},
   "outputs": [
    {
     "name": "stderr",
     "output_type": "stream",
     "text": [
      "C:\\Users\\lhari\\AppData\\Local\\Temp\\ipykernel_21788\\855485759.py:1: UserWarning: `Model.fit_generator` is deprecated and will be removed in a future version. Please use `Model.fit`, which supports generators.\n",
      "  model.fit_generator(generator=x_train,steps_per_epoch=len(x_train),epochs=20,validation_data=x_test,validation_steps=len(x_test))\n"
     ]
    },
    {
     "name": "stdout",
     "output_type": "stream",
     "text": [
      "Epoch 1/20\n",
      "149/149 [==============================] - 52s 342ms/step - loss: 1.2364 - accuracy: 0.4313 - val_loss: 1.0408 - val_accuracy: 0.5606\n",
      "Epoch 2/20\n",
      "149/149 [==============================] - 32s 216ms/step - loss: 0.8865 - accuracy: 0.6213 - val_loss: 0.7468 - val_accuracy: 0.7475\n",
      "Epoch 3/20\n",
      "149/149 [==============================] - 32s 218ms/step - loss: 0.7420 - accuracy: 0.7170 - val_loss: 0.7637 - val_accuracy: 0.7475\n",
      "Epoch 4/20\n",
      "149/149 [==============================] - 32s 215ms/step - loss: 0.6858 - accuracy: 0.7332 - val_loss: 0.7331 - val_accuracy: 0.7172\n",
      "Epoch 5/20\n",
      "149/149 [==============================] - 33s 220ms/step - loss: 0.5715 - accuracy: 0.7938 - val_loss: 0.6710 - val_accuracy: 0.7778\n",
      "Epoch 6/20\n",
      "149/149 [==============================] - 31s 211ms/step - loss: 0.5688 - accuracy: 0.7925 - val_loss: 0.7836 - val_accuracy: 0.7626\n",
      "Epoch 7/20\n",
      "149/149 [==============================] - 31s 206ms/step - loss: 0.4994 - accuracy: 0.8005 - val_loss: 0.8105 - val_accuracy: 0.7576\n",
      "Epoch 8/20\n",
      "149/149 [==============================] - 30s 203ms/step - loss: 0.4664 - accuracy: 0.8288 - val_loss: 0.7088 - val_accuracy: 0.7727\n",
      "Epoch 9/20\n",
      "149/149 [==============================] - 32s 212ms/step - loss: 0.4462 - accuracy: 0.8342 - val_loss: 0.7028 - val_accuracy: 0.7677\n",
      "Epoch 10/20\n",
      "149/149 [==============================] - 31s 210ms/step - loss: 0.3868 - accuracy: 0.8706 - val_loss: 0.6825 - val_accuracy: 0.7576\n",
      "Epoch 11/20\n",
      "149/149 [==============================] - 32s 215ms/step - loss: 0.3665 - accuracy: 0.8693 - val_loss: 0.7379 - val_accuracy: 0.8030\n",
      "Epoch 12/20\n",
      "149/149 [==============================] - 31s 207ms/step - loss: 0.3639 - accuracy: 0.8760 - val_loss: 0.7034 - val_accuracy: 0.8030\n",
      "Epoch 13/20\n",
      "149/149 [==============================] - 32s 212ms/step - loss: 0.2735 - accuracy: 0.9016 - val_loss: 0.7701 - val_accuracy: 0.7980\n",
      "Epoch 14/20\n",
      "149/149 [==============================] - 33s 225ms/step - loss: 0.3198 - accuracy: 0.8774 - val_loss: 0.8616 - val_accuracy: 0.7879\n",
      "Epoch 15/20\n",
      "149/149 [==============================] - 31s 206ms/step - loss: 0.2222 - accuracy: 0.9178 - val_loss: 1.0066 - val_accuracy: 0.7677\n",
      "Epoch 16/20\n",
      "149/149 [==============================] - 33s 219ms/step - loss: 0.2391 - accuracy: 0.9205 - val_loss: 1.0360 - val_accuracy: 0.7828\n",
      "Epoch 17/20\n",
      "149/149 [==============================] - 31s 209ms/step - loss: 0.1653 - accuracy: 0.9461 - val_loss: 1.1461 - val_accuracy: 0.7727\n",
      "Epoch 18/20\n",
      "149/149 [==============================] - 33s 220ms/step - loss: 0.2227 - accuracy: 0.9245 - val_loss: 0.9769 - val_accuracy: 0.7626\n",
      "Epoch 19/20\n",
      "149/149 [==============================] - 32s 215ms/step - loss: 0.1905 - accuracy: 0.9340 - val_loss: 0.8834 - val_accuracy: 0.7980\n",
      "Epoch 20/20\n",
      "149/149 [==============================] - 30s 198ms/step - loss: 0.1493 - accuracy: 0.9407 - val_loss: 0.9995 - val_accuracy: 0.8131\n"
     ]
    },
    {
     "data": {
      "text/plain": [
       "<keras.src.callbacks.History at 0x14862282410>"
      ]
     },
     "execution_count": 4,
     "metadata": {},
     "output_type": "execute_result"
    }
   ],
   "source": [
    "model.fit_generator(generator=x_train,steps_per_epoch=len(x_train),epochs=20,validation_data=x_test,validation_steps=len(x_test))"
   ]
  },
  {
   "cell_type": "code",
   "execution_count": 5,
   "id": "bfd58524",
   "metadata": {},
   "outputs": [
    {
     "name": "stderr",
     "output_type": "stream",
     "text": [
      "C:\\Users\\lhari\\AppData\\Roaming\\Python\\Python311\\site-packages\\keras\\src\\engine\\training.py:3000: UserWarning: You are saving your model as an HDF5 file via `model.save()`. This file format is considered legacy. We recommend using instead the native Keras format, e.g. `model.save('my_model.keras')`.\n",
      "  saving_api.save_model(\n"
     ]
    }
   ],
   "source": [
    "model.save('disaster.h5')"
   ]
  },
  {
   "cell_type": "code",
   "execution_count": 6,
   "id": "edf1e0c8",
   "metadata": {},
   "outputs": [],
   "source": [
    "model_json=model.to_json()\n",
    "with open(\"model-bw.json\",\"w\") as json_file:\n",
    "    json_file.write(model_json)"
   ]
  },
  {
   "cell_type": "code",
   "execution_count": 7,
   "id": "7c38cceb",
   "metadata": {},
   "outputs": [
    {
     "data": {
      "text/plain": [
       "'{\"class_name\": \"Sequential\", \"config\": {\"name\": \"sequential\", \"layers\": [{\"class_name\": \"InputLayer\", \"config\": {\"batch_input_shape\": [null, 64, 64, 3], \"dtype\": \"float32\", \"sparse\": false, \"ragged\": false, \"name\": \"conv2d_input\"}}, {\"class_name\": \"Conv2D\", \"config\": {\"name\": \"conv2d\", \"trainable\": true, \"dtype\": \"float32\", \"batch_input_shape\": [null, 64, 64, 3], \"filters\": 32, \"kernel_size\": [3, 3], \"strides\": [1, 1], \"padding\": \"valid\", \"data_format\": \"channels_last\", \"dilation_rate\": [1, 1], \"groups\": 1, \"activation\": \"relu\", \"use_bias\": true, \"kernel_initializer\": {\"module\": \"keras.initializers\", \"class_name\": \"GlorotUniform\", \"config\": {\"seed\": null}, \"registered_name\": null}, \"bias_initializer\": {\"module\": \"keras.initializers\", \"class_name\": \"Zeros\", \"config\": {}, \"registered_name\": null}, \"kernel_regularizer\": null, \"bias_regularizer\": null, \"activity_regularizer\": null, \"kernel_constraint\": null, \"bias_constraint\": null}}, {\"class_name\": \"MaxPooling2D\", \"config\": {\"name\": \"max_pooling2d\", \"trainable\": true, \"dtype\": \"float32\", \"pool_size\": [2, 2], \"padding\": \"valid\", \"strides\": [2, 2], \"data_format\": \"channels_last\"}}, {\"class_name\": \"Conv2D\", \"config\": {\"name\": \"conv2d_1\", \"trainable\": true, \"dtype\": \"float32\", \"filters\": 32, \"kernel_size\": [3, 3], \"strides\": [1, 1], \"padding\": \"valid\", \"data_format\": \"channels_last\", \"dilation_rate\": [1, 1], \"groups\": 1, \"activation\": \"relu\", \"use_bias\": true, \"kernel_initializer\": {\"module\": \"keras.initializers\", \"class_name\": \"GlorotUniform\", \"config\": {\"seed\": null}, \"registered_name\": null}, \"bias_initializer\": {\"module\": \"keras.initializers\", \"class_name\": \"Zeros\", \"config\": {}, \"registered_name\": null}, \"kernel_regularizer\": null, \"bias_regularizer\": null, \"activity_regularizer\": null, \"kernel_constraint\": null, \"bias_constraint\": null}}, {\"class_name\": \"MaxPooling2D\", \"config\": {\"name\": \"max_pooling2d_1\", \"trainable\": true, \"dtype\": \"float32\", \"pool_size\": [2, 2], \"padding\": \"valid\", \"strides\": [2, 2], \"data_format\": \"channels_last\"}}, {\"class_name\": \"Flatten\", \"config\": {\"name\": \"flatten\", \"trainable\": true, \"dtype\": \"float32\", \"data_format\": \"channels_last\"}}, {\"class_name\": \"Dense\", \"config\": {\"name\": \"dense\", \"trainable\": true, \"dtype\": \"float32\", \"units\": 128, \"activation\": \"relu\", \"use_bias\": true, \"kernel_initializer\": {\"module\": \"keras.initializers\", \"class_name\": \"GlorotUniform\", \"config\": {\"seed\": null}, \"registered_name\": null}, \"bias_initializer\": {\"module\": \"keras.initializers\", \"class_name\": \"Zeros\", \"config\": {}, \"registered_name\": null}, \"kernel_regularizer\": null, \"bias_regularizer\": null, \"activity_regularizer\": null, \"kernel_constraint\": null, \"bias_constraint\": null}}, {\"class_name\": \"Dense\", \"config\": {\"name\": \"dense_1\", \"trainable\": true, \"dtype\": \"float32\", \"units\": 4, \"activation\": \"softmax\", \"use_bias\": true, \"kernel_initializer\": {\"module\": \"keras.initializers\", \"class_name\": \"GlorotUniform\", \"config\": {\"seed\": null}, \"registered_name\": null}, \"bias_initializer\": {\"module\": \"keras.initializers\", \"class_name\": \"Zeros\", \"config\": {}, \"registered_name\": null}, \"kernel_regularizer\": null, \"bias_regularizer\": null, \"activity_regularizer\": null, \"kernel_constraint\": null, \"bias_constraint\": null}}]}, \"keras_version\": \"2.13.1\", \"backend\": \"tensorflow\"}'"
      ]
     },
     "execution_count": 7,
     "metadata": {},
     "output_type": "execute_result"
    }
   ],
   "source": [
    "model_json"
   ]
  },
  {
   "cell_type": "code",
   "execution_count": 8,
   "id": "53159591",
   "metadata": {},
   "outputs": [],
   "source": [
    "from tensorflow.keras.models import load_model\n",
    "from keras.preprocessing import image\n",
    "model=load_model(\"disaster.h5\")\n",
    "\n",
    "img=image.load_img(r\"D:\\dataset\\train_set\\Earthquake\\10.jpg\",target_size=(64,64))"
   ]
  },
  {
   "cell_type": "code",
   "execution_count": 9,
   "id": "7f4faf0d",
   "metadata": {},
   "outputs": [
    {
     "data": {
      "image/png": "[encoded data removed]",
      "text/plain": [
       "<PIL.Image.Image image mode=RGB size=64x64>"
      ]
     },
     "execution_count": 9,
     "metadata": {},
     "output_type": "execute_result"
    }
   ],
   "source": [
    "img"
   ]
  },
  {
   "cell_type": "code",
   "execution_count": 10,
   "id": "ccffdb0c",
   "metadata": {
    "scrolled": true
   },
   "outputs": [
    {
     "name": "stdout",
     "output_type": "stream",
     "text": [
      "1/1 [==============================] - 0s 144ms/step\n"
     ]
    },
    {
     "data": {
      "text/plain": [
       "array([[0., 1., 0., 0.]], dtype=float32)"
      ]
     },
     "execution_count": 10,
     "metadata": {},
     "output_type": "execute_result"
    }
   ],
   "source": [
    "x=image.img_to_array(img)\n",
    "x=np.expand_dims(x,axis=0)\n",
    "pred=model.predict(x)\n",
    "pred"
   ]
  },
  {
   "cell_type": "code",
   "execution_count": 11,
   "id": "07b05a8b",
   "metadata": {},
   "outputs": [
    {
     "data": {
      "text/plain": [
       "'Earthquake'"
      ]
     },
     "execution_count": 11,
     "metadata": {},
     "output_type": "execute_result"
    }
   ],
   "source": [
    "\n",
    "index = ['Cyclone', 'Earthquake', 'Flood', 'Wildfire']\n",
    "\n",
    "# Assuming pred contains the array of predicted probabilities\n",
    "predicted_class = np.argmax(pred)  # Get the index with the highest probability\n",
    "\n",
    "result = index[predicted_class]\n",
    "result"
   ]
  },
  {
   "cell_type": "code",
   "execution_count": null,
   "id": "59f40740",
   "metadata": {},
   "outputs": [],
   "source": []
  },
  {
   "cell_type": "code",
   "execution_count": null,
   "id": "33e3fcd5",
   "metadata": {},
   "outputs": [],
   "source": []
  },
  {
   "cell_type": "code",
   "execution_count": null,
   "id": "24d87b1d",
   "metadata": {},
   "outputs": [],
   "source": []
  }
 ],
 "metadata": {
  "kernelspec": {
   "display_name": "Python 3 (ipykernel)",
   "language": "python",
   "name": "python3"
  },
  "language_info": {
   "codemirror_mode": {
    "name": "ipython",
    "version": 3
   },
   "file_extension": ".py",
   "mimetype": "text/x-python",
   "name": "python",
   "nbconvert_exporter": "python",
   "pygments_lexer": "ipython3",
   "version": "3.11.3"
  }
 },
 "nbformat": 4,
 "nbformat_minor": 5
}
